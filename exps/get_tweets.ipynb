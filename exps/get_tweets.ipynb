{
 "cells": [
  {
   "cell_type": "code",
   "execution_count": 2,
   "metadata": {},
   "outputs": [],
   "source": [
    "import tweepy                   \n",
    "import csv\n",
    "from datetime import date\n",
    "from datetime import datetime\n",
    "import time"
   ]
  },
  {
   "cell_type": "markdown",
   "metadata": {},
   "source": [
    "## List ids of interest:\n",
    "\n",
    "Members of congress 34179516\n",
    "\n",
    "New members of congress 816275409931210752\n",
    "\n",
    "POTUS 1184094696232144897\n",
    "\n",
    "Govenors 7560205\n",
    "\n",
    "US representatives 6196793\n",
    "\n",
    "Senators 4244910"
   ]
  },
  {
   "cell_type": "code",
   "execution_count": 3,
   "metadata": {},
   "outputs": [],
   "source": [
    "consumer_key = \"<consumer key>\"\n",
    "consumer_secret = \"<consumer secret key>\"\n",
    "access_key = \"<access key>\"\n",
    "access_secret = \"<access secret key>\""
   ]
  },
  {
   "cell_type": "code",
   "execution_count": 13,
   "metadata": {},
   "outputs": [],
   "source": [
    "# Load Twitter API secrets from an external JSON file\n",
    "api_key = consumer_key\n",
    "api_secret_key = consumer_secret\n",
    "access_token = access_key\n",
    "access_token_secret = access_secret\n",
    "# Connect to Twitter API using the secrets\n",
    "auth = tweepy.OAuthHandler(api_key, api_secret_key)\n",
    "auth.set_access_token(access_token, access_token_secret)\n",
    "api = tweepy.API(auth)"
   ]
  },
  {
   "cell_type": "code",
   "execution_count": 14,
   "metadata": {},
   "outputs": [
    {
     "data": {
      "text/plain": [
       "<tweepy.api.API at 0x103887be0>"
      ]
     },
     "execution_count": 14,
     "metadata": {},
     "output_type": "execute_result"
    }
   ],
   "source": [
    "api"
   ]
  },
  {
   "cell_type": "code",
   "execution_count": 15,
   "metadata": {},
   "outputs": [],
   "source": [
    "path = '/Users/a307/Desktop/twitter_covid/'"
   ]
  },
  {
   "cell_type": "code",
   "execution_count": 22,
   "metadata": {},
   "outputs": [],
   "source": [
    "def get_all_tweets(screen_name):\n",
    "    # initialize a list to hold all the Tweets\n",
    "    alltweets = []\n",
    "    # make initial request for most recent tweets \n",
    "    # (200 is the maximum allowed count)\n",
    "    new_tweets = api.user_timeline(screen_name = screen_name,count=200)\n",
    "    # save most recent tweets\n",
    "    alltweets.extend(new_tweets)\n",
    "    # save the id of the oldest tweet less one to avoid duplication\n",
    "    oldest = alltweets[-1].id - 1\n",
    "    # keep grabbing tweets until there are no tweets left\n",
    "    while len(new_tweets) > 0:\n",
    "        print(\"getting tweets before %s\" % (oldest))\n",
    "        # all subsequent requests use the max_id param to prevent\n",
    "        # duplicates\n",
    "        new_tweets = api.user_timeline(screen_name = screen_name,count=200,max_id=oldest)\n",
    "        # save most recent tweets\n",
    "        alltweets.extend(new_tweets)\n",
    "        # update the id of the oldest tweet less one\n",
    "        oldest = alltweets[-1].id - 1\n",
    "        print(\"...%s tweets downloaded so far\" % (len(alltweets)))\n",
    "    ### END OF WHILE LOOP ###\n",
    "    # transform the tweepy tweets into a 2D array that will \n",
    "    # populate the csv\n",
    "    outtweets = [[tweet.id_str, tweet.created_at, tweet.text, tweet.favorite_count,tweet.in_reply_to_screen_name, tweet.retweeted] for tweet in alltweets]\n",
    "    # write the csv\n",
    "    with open(path + '%s_tweets.csv' % screen_name, 'w') as f:\n",
    "        writer = csv.writer(f)\n",
    "        writer.writerow([\"id\",\"created_at\",\"text\",\"likes\",\"in reply to\",\"retweeted\"])\n",
    "        writer.writerows(outtweets)\n",
    "    pass"
   ]
  },
  {
   "cell_type": "code",
   "execution_count": 23,
   "metadata": {},
   "outputs": [],
   "source": [
    "def get_list_members(api, list_id):\n",
    "    members = []\n",
    "    # without this you only get the first 20 list members\n",
    "    for page in tweepy.Cursor(api.list_members, list_id=list_id).items():\n",
    "        members.append(page)\n",
    "    # create a list containing all usernames\n",
    "    return [ m.screen_name for m in members ]\n"
   ]
  },
  {
   "cell_type": "code",
   "execution_count": 24,
   "metadata": {},
   "outputs": [],
   "source": [
    "members = get_list_members(api, 34179516)"
   ]
  },
  {
   "cell_type": "code",
   "execution_count": 25,
   "metadata": {},
   "outputs": [
    {
     "data": {
      "text/plain": [
       "565"
      ]
     },
     "execution_count": 25,
     "metadata": {},
     "output_type": "execute_result"
    }
   ],
   "source": [
    "len(members)"
   ]
  },
  {
   "cell_type": "code",
   "execution_count": 27,
   "metadata": {},
   "outputs": [],
   "source": [
    "# save tweets of people in a list\n",
    "for member in members:\n",
    "    try:\n",
    "        get_all_tweets(member)\n",
    "    except Exception as ex:\n",
    "        print(ex)"
   ]
  },
  {
   "cell_type": "code",
   "execution_count": null,
   "metadata": {},
   "outputs": [],
   "source": []
  }
 ],
 "metadata": {
  "kernelspec": {
   "display_name": "Python 3",
   "language": "python",
   "name": "python3"
  },
  "language_info": {
   "codemirror_mode": {
    "name": "ipython",
    "version": 3
   },
   "file_extension": ".py",
   "mimetype": "text/x-python",
   "name": "python",
   "nbconvert_exporter": "python",
   "pygments_lexer": "ipython3",
   "version": "3.6.7"
  }
 },
 "nbformat": 4,
 "nbformat_minor": 2
}
